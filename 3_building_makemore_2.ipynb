{
 "cells": [
  {
   "cell_type": "markdown",
   "id": "60cf98cf-1478-4e88-ae37-af8fdcbbf2ad",
   "metadata": {},
   "source": [
    "https://www.youtube.com/watch?v=TCH_1BHY58I\n",
    "지난 makemore는 바로 직전의 글자만 보니까 성능이 안좋을만 했다.\n",
    "length of context에 따라 표의 사이즈가 커져버린다.(27*27) -> (27*27 x 27*27) -> ( 27*27*27 x 27*27*27 )\n",
    "이제 MLP, (multilayer perceptron) 모델\n",
    "우리는 아직 character level language model이지만, 위 논문에서는 17000개의 vocabulary를 기준으로 한 word level language model. (종합해서 17000개의 단어가 등장한 문서들)\n",
    "\n",
    "17000개의 단어를 30개의 vector로 임베딩해보려 한 것.\n",
    "처음에는 random하게 split되어 있다가, similar 한 단어들은 비슷한 공간으로 모이도록 설계한다. \n",
    "maximize the log-likelihood of the training data가 목적이다.\n",
    "\n",
    "A dog was running in a room 이란 문장을 못봤으면\n",
    "A dog was running in a 다음에 뭐가나올지 모르는데, embedding space의 transfer 된 knowledge를 통해 이걸 유추해내길 바란다.\n",
    "\n",
    "3개의 이전 단어들을 보고, 다음 단어를 보고 싶어한다.\n",
    "각 단어들은 17000 단어중 몇번째에 속하는지 index정보만 갖고있으면 돼. (one hot encoded 처럼)\n",
    "그래서 lookup table을 보고, 각 단어가 어떤 30dimension vector에 속하는지 확인할것이다. \n",
    "\n",
    "hyper parameter라고 hidden layer를 뒀는데, 100개의 neuron을 둔다고 하면, \n",
    "input이 3개 단어 - 100개 뉴런을 거쳐서 - 17000개의 뉴런으로 fully connected 되어서 output은 그중 제일 높은것. 이 되는 형태.\n",
    "\n",
    "17000 logit이 존재하는것이다. 그래서 exp() 하고 sum()으로 normalize됨. \n",
    "우리는 각각에 label이 존재. A dog was 면 running이 다음에 나와야 한다. -> 이 확률을 maximize한다.\n",
    "\n",
    "output layer, embedding lookup table, hidden layer wieght - 같은 것들이 고쳐진다.\n"
   ]
  },
  {
   "cell_type": "code",
   "execution_count": 3,
   "id": "e4434155-43c5-4725-ba0e-e1c9ead031e5",
   "metadata": {
    "tags": []
   },
   "outputs": [],
   "source": [
    "import torch\n",
    "import torch.nn.functional as F\n",
    "import matplotlib.pyplot as plt # for making figures\n",
    "%matplotlib inline\n"
   ]
  },
  {
   "cell_type": "code",
   "execution_count": 1,
   "id": "214e9410-1175-4293-ab6c-5c6a44a4d79d",
   "metadata": {
    "tags": []
   },
   "outputs": [
    {
     "data": {
      "text/plain": [
       "['emma', 'olivia', 'ava', 'isabella', 'sophia', 'charlotte', 'mia', 'amelia']"
      ]
     },
     "execution_count": 1,
     "metadata": {},
     "output_type": "execute_result"
    }
   ],
   "source": [
    "# read in all the words\n",
    "words = open('names.txt', 'r').read().splitlines()\n",
    "print(words[:8])\n",
    "print(len(words))"
   ]
  },
  {
   "cell_type": "code",
   "execution_count": 4,
   "id": "33020656-ac15-494a-bf94-211fc4cf6ec7",
   "metadata": {
    "tags": []
   },
   "outputs": [
    {
     "name": "stdout",
     "output_type": "stream",
     "text": [
      "{1: 'a', 2: 'b', 3: 'c', 4: 'd', 5: 'e', 6: 'f', 7: 'g', 8: 'h', 9: 'i', 10: 'j', 11: 'k', 12: 'l', 13: 'm', 14: 'n', 15: 'o', 16: 'p', 17: 'q', 18: 'r', 19: 's', 20: 't', 21: 'u', 22: 'v', 23: 'w', 24: 'x', 25: 'y', 26: 'z', 0: '.'}\n"
     ]
    }
   ],
   "source": [
    "chars = sorted(list(set(''.join(words))))\n",
    "stoi = {s:i+1 for i,s in enumerate(chars)}\n",
    "stoi['.']=0\n",
    "itos = {i:s for s,i in stoi.items()}\n",
    "print(itos)\n"
   ]
  },
  {
   "cell_type": "code",
   "execution_count": 58,
   "id": "c221274b-7037-4049-83da-347b872e3264",
   "metadata": {
    "tags": []
   },
   "outputs": [],
   "source": [
    "# build the dataset\n",
    "\n",
    "block_size=3 # context length : ngram 몇개 선택할것인가. ( 몇개의 단어로 다음 단어 예측할지)\n",
    "X, Y = [], []\n",
    "#for w in words[:5]:\n",
    "for w in words:\n",
    "    # print(w)\n",
    "    context = [0] * block_size\n",
    "    for ch in w + '.':\n",
    "        ix = stoi[ch]\n",
    "        X.append(context) # 첫 context는 ... (즉 앞 3글자가 .인거)\n",
    "        Y.append(ix)\n",
    "        # print(\"\".join(itos[i] for i in context), '--->',itos[ix])\n",
    "        context = context[1:] + [ix] # crop and append\n",
    "X = torch.tensor(X)\n",
    "Y = torch.tensor(Y)"
   ]
  },
  {
   "cell_type": "code",
   "execution_count": 59,
   "id": "2dbbf132-cc2c-4660-bee5-3f318f3fb0ca",
   "metadata": {
    "tags": []
   },
   "outputs": [
    {
     "data": {
      "text/plain": [
       "(torch.Size([228146, 3]), torch.int64, torch.Size([228146]), torch.int64)"
      ]
     },
     "execution_count": 59,
     "metadata": {},
     "output_type": "execute_result"
    }
   ],
   "source": [
    "X.shape, X.dtype, Y.shape, Y.dtype"
   ]
  },
  {
   "cell_type": "code",
   "execution_count": null,
   "id": "bfa3e457-5998-4742-8ca3-5c7e79a4dff0",
   "metadata": {},
   "outputs": [],
   "source": [
    "#---------- training dataset set 끝\n",
    "#---------- embedding 시작"
   ]
  },
  {
   "cell_type": "code",
   "execution_count": 10,
   "id": "bc985815-3a09-4a0a-9035-1161437596c8",
   "metadata": {
    "tags": []
   },
   "outputs": [
    {
     "name": "stdout",
     "output_type": "stream",
     "text": [
      "tensor([ 1.4417, -1.4135])\n"
     ]
    }
   ],
   "source": [
    "# 우리는 27개야. 17000개를 30개로 embed했었는데, 우리는 2개로 해볼까\n",
    "C = torch.randn((27,2))\n",
    "print(C[5])"
   ]
  },
  {
   "cell_type": "code",
   "execution_count": 12,
   "id": "f9e0c9e2-bf73-47cc-a871-86cde6d7e848",
   "metadata": {
    "tags": []
   },
   "outputs": [
    {
     "name": "stdout",
     "output_type": "stream",
     "text": [
      "tensor([0, 0, 0, 0, 0, 1, 0, 0, 0, 0, 0, 0, 0, 0, 0, 0, 0, 0, 0, 0, 0, 0, 0, 0,\n",
      "        0, 0, 0])\n"
     ]
    },
    {
     "data": {
      "text/plain": [
       "tensor([ 1.4417, -1.4135])"
      ]
     },
     "execution_count": 12,
     "metadata": {},
     "output_type": "execute_result"
    }
   ],
   "source": [
    "print(F.one_hot(torch.tensor(5), num_classes=27)) # 27개의 단어를 가진 1 hot encoded.\n",
    "F.one_hot(torch.tensor(5), num_classes=27).float() @ C # 이걸하면 C[5]가 나오지않나? 5번째 축이랑 곱해지는."
   ]
  },
  {
   "cell_type": "code",
   "execution_count": 14,
   "id": "29a624a5-53df-4f2b-ae43-d166e5d66522",
   "metadata": {
    "tags": []
   },
   "outputs": [
    {
     "name": "stdout",
     "output_type": "stream",
     "text": [
      "tensor([[ 1.4417, -1.4135],\n",
      "        [ 0.6951,  0.8357],\n",
      "        [-1.6309,  0.7189]])\n",
      "tensor([[ 1.4417, -1.4135],\n",
      "        [ 0.6951,  0.8357],\n",
      "        [-1.6309,  0.7189],\n",
      "        [-1.6309,  0.7189],\n",
      "        [-1.6309,  0.7189]])\n"
     ]
    },
    {
     "data": {
      "text/plain": [
       "torch.Size([32, 3, 2])"
      ]
     },
     "execution_count": 14,
     "metadata": {},
     "output_type": "execute_result"
    }
   ],
   "source": [
    "# 우리는 다시 트레이닝set X를 어떻게 embed할지 생각해야한다.\n",
    "# [a],[b],[c] 가 있는데 각각 [a]-> (0.2,0.1) 이런식으로 되면 좋을거아냐\n",
    "print(C[[5,6,7]])\n",
    "print(C[torch.tensor([5,6,7,7,7])])\n",
    "# 이렇게 tensor를 넣어서 임베딩된 벡터를 얻을 수 있다.\n",
    "C[X].shape"
   ]
  },
  {
   "cell_type": "code",
   "execution_count": 15,
   "id": "2c1ea033-f6a1-46d4-b052-986ae78d0e49",
   "metadata": {
    "tags": []
   },
   "outputs": [
    {
     "data": {
      "text/plain": [
       "tensor(1)"
      ]
     },
     "execution_count": 15,
     "metadata": {},
     "output_type": "execute_result"
    }
   ],
   "source": [
    "X[13,2] # 13번째 training set의 2번째 char "
   ]
  },
  {
   "cell_type": "code",
   "execution_count": 16,
   "id": "88a92174-74fc-4e93-a43b-c7b6d8bb654e",
   "metadata": {
    "tags": []
   },
   "outputs": [
    {
     "data": {
      "text/plain": [
       "tensor([0.8826, 0.9870])"
      ]
     },
     "execution_count": 16,
     "metadata": {},
     "output_type": "execute_result"
    }
   ],
   "source": [
    "C[X][13,2] # 하면 13번째 training set의 2번째 char이 embed된 형태"
   ]
  },
  {
   "cell_type": "code",
   "execution_count": 17,
   "id": "d5701cd1-cd33-4ab6-8e0e-9c5ca93e416f",
   "metadata": {
    "tags": []
   },
   "outputs": [],
   "source": [
    "emb = C[X]"
   ]
  },
  {
   "cell_type": "code",
   "execution_count": 29,
   "id": "b48de3c0-4816-4b8c-9722-1efbf0d1afaf",
   "metadata": {
    "tags": []
   },
   "outputs": [],
   "source": [
    "W1 = torch.randn((6,100)) # 우리는 3개 단어에서 2개의 input씩을 받으니 첫 layer는 6개를 input으로 받는다. # 100은 그냥 임의로 잡아보자. 100개의 output이 생성된다.\n",
    "b1 = torch.randn(100) # 100개의 output 생성될때 더해줘야함."
   ]
  },
  {
   "cell_type": "code",
   "execution_count": 20,
   "id": "d2d4df05-0805-4982-9b4c-2475bcd3c50d",
   "metadata": {
    "tags": []
   },
   "outputs": [
    {
     "name": "stdout",
     "output_type": "stream",
     "text": [
      "[torch.Size([32, 2]), torch.Size([32, 2]), torch.Size([32, 2])]\n"
     ]
    },
    {
     "data": {
      "text/plain": [
       "torch.Size([32, 6])"
      ]
     },
     "execution_count": 20,
     "metadata": {},
     "output_type": "execute_result"
    }
   ],
   "source": [
    "# emb @ W1 + b1  이걸 하고 싶은데, [32,3,2] 짜리를 [6,100] 에 곱할 수 없다. concatenate을 해야한다. [32,6]으로.\n",
    "# torch에 cat이 있다. concatenate tensors in the given dimension\n",
    "print([emb[:,0,:].shape, emb[:,1,:].shape, emb[:,2,:].shape]) # 각 첫번째 단어의 임베딩, 2번째, 3번째\n",
    "torch.cat([emb[:,0,:], emb[:,1,:], emb[:,2,:]],1).shape # 그치만 이렇게하면, ngram을 3개로 할때만 이렇게 수동으로 indexing한걸로 된다. 그러니까 unbind를 사용하자"
   ]
  },
  {
   "cell_type": "code",
   "execution_count": 24,
   "id": "d2e62f07-0187-4a4e-83aa-6ece766a214d",
   "metadata": {
    "tags": []
   },
   "outputs": [
    {
     "name": "stdout",
     "output_type": "stream",
     "text": [
      "3\n"
     ]
    },
    {
     "data": {
      "text/plain": [
       "torch.Size([32, 6])"
      ]
     },
     "execution_count": 24,
     "metadata": {},
     "output_type": "execute_result"
    }
   ],
   "source": [
    "# torch.unbind 를 하면 해당 dimension을 제거해서 펴준다.\n",
    "print(len(torch.unbind(emb,1))) # 이게 길이가 3인 이유는 (32,3,2) 에서 3을 가진 dimension이 사라져서 (32,2) (32,2) (32,2) 로 출력된다. 즉 위에랑 같은 형태\n",
    "torch.cat(torch.unbind(emb,1),1).shape"
   ]
  },
  {
   "cell_type": "code",
   "execution_count": 25,
   "id": "c41848bb-cb9c-4c6d-be75-0f7f631573d6",
   "metadata": {
    "tags": []
   },
   "outputs": [
    {
     "name": "stdout",
     "output_type": "stream",
     "text": [
      "torch.Size([18]) tensor([ 0,  1,  2,  3,  4,  5,  6,  7,  8,  9, 10, 11, 12, 13, 14, 15, 16, 17])\n"
     ]
    }
   ],
   "source": [
    "# 하지만 이것보다 덜복잡한게 있다\n",
    "a= torch.arange(18)\n",
    "print(a.shape, a)"
   ]
  },
  {
   "cell_type": "code",
   "execution_count": 26,
   "id": "afdc5193-e83e-433a-9a76-039b9aa4a2a0",
   "metadata": {
    "tags": []
   },
   "outputs": [
    {
     "data": {
      "text/plain": [
       "tensor([[ 0,  1],\n",
       "        [ 2,  3],\n",
       "        [ 4,  5],\n",
       "        [ 6,  7],\n",
       "        [ 8,  9],\n",
       "        [10, 11],\n",
       "        [12, 13],\n",
       "        [14, 15],\n",
       "        [16, 17]])"
      ]
     },
     "execution_count": 26,
     "metadata": {},
     "output_type": "execute_result"
    }
   ],
   "source": [
    "a.view(9,2) #이걸 이렇게 보겠다~ 하면 차례대로 들어간다. \n",
    "\"\"\"\n",
    "torch에서 이게 효과적인 이유는 a.storage()라는, underlying storage가 있는데, 1-D array로 가지고 있는것이다. .view()는 그 tensor를 어떻게 interpret하고 싶은지 나타내는거고,\n",
    "이 함수를 부를땐 아무런 메모리 변화가 없다. storage를 그대로 사용해서. shape, stride, storage offset을 조정해서 우리눈에 어떻게 보이게 하는지 보여주는것이다. \n",
    "\"\"\""
   ]
  },
  {
   "cell_type": "code",
   "execution_count": 27,
   "id": "2ca51f83-4024-4ee1-a874-b5cdee26335c",
   "metadata": {
    "tags": []
   },
   "outputs": [
    {
     "data": {
      "text/plain": [
       "tensor([[True, True, True, True, True, True],\n",
       "        [True, True, True, True, True, True],\n",
       "        [True, True, True, True, True, True],\n",
       "        [True, True, True, True, True, True],\n",
       "        [True, True, True, True, True, True],\n",
       "        [True, True, True, True, True, True],\n",
       "        [True, True, True, True, True, True],\n",
       "        [True, True, True, True, True, True],\n",
       "        [True, True, True, True, True, True],\n",
       "        [True, True, True, True, True, True],\n",
       "        [True, True, True, True, True, True],\n",
       "        [True, True, True, True, True, True],\n",
       "        [True, True, True, True, True, True],\n",
       "        [True, True, True, True, True, True],\n",
       "        [True, True, True, True, True, True],\n",
       "        [True, True, True, True, True, True],\n",
       "        [True, True, True, True, True, True],\n",
       "        [True, True, True, True, True, True],\n",
       "        [True, True, True, True, True, True],\n",
       "        [True, True, True, True, True, True],\n",
       "        [True, True, True, True, True, True],\n",
       "        [True, True, True, True, True, True],\n",
       "        [True, True, True, True, True, True],\n",
       "        [True, True, True, True, True, True],\n",
       "        [True, True, True, True, True, True],\n",
       "        [True, True, True, True, True, True],\n",
       "        [True, True, True, True, True, True],\n",
       "        [True, True, True, True, True, True],\n",
       "        [True, True, True, True, True, True],\n",
       "        [True, True, True, True, True, True],\n",
       "        [True, True, True, True, True, True],\n",
       "        [True, True, True, True, True, True]])"
      ]
     },
     "execution_count": 27,
     "metadata": {},
     "output_type": "execute_result"
    }
   ],
   "source": [
    "emb.shape # 이건 [32,3,2] 이지만, \n",
    "emb.view(32,6) # 이렇게 flatten되는것은, 2가 stacked up. 되는것.\n",
    "emb.view(32,6) == torch.cat(torch.unbind(emb,1),1) # elementwise 비교"
   ]
  },
  {
   "cell_type": "code",
   "execution_count": 32,
   "id": "054931b3-aeae-4fea-af3c-a6739e8916b0",
   "metadata": {
    "tags": []
   },
   "outputs": [],
   "source": [
    "#torch.cat은 새로운 torch를 만들기 때문에 메모리를 많이 쓴다.\n",
    "W1 = torch.randn((6,100)) # 우리는 3개 단어에서 2개의 input씩을 받으니 첫 layer는 6개를 input으로 받는다. # 100은 그냥 임의로 잡아보자. 100개의 output이 생성된다.\n",
    "b1 = torch.randn(100) # 100개의 output 생성될때 더해줘야함.\n",
    "h= emb.view(-1,6)@W1 +b1 # -1을 넣으면 torch가 dimension 짐작. emb.shape[0] 이랑 같은 32 를 넣게 될것. 32는 우리 training set dependent하니까.\n",
    "h = torch.tanh(emb.view(-1,6)@W1 +b1) # activation function으로 tanh. 결과값은 -1과 1사이로 바뀐다.\n"
   ]
  },
  {
   "cell_type": "code",
   "execution_count": 33,
   "id": "d203e2b6-f98b-4ea2-9f7a-97292b68587c",
   "metadata": {
    "tags": []
   },
   "outputs": [
    {
     "data": {
      "text/plain": [
       "torch.Size([32, 100])"
      ]
     },
     "execution_count": 33,
     "metadata": {},
     "output_type": "execute_result"
    }
   ],
   "source": [
    "h.shape"
   ]
  },
  {
   "cell_type": "code",
   "execution_count": 35,
   "id": "dc203a5c-c35b-48bd-8d22-bb53b9c6905d",
   "metadata": {
    "tags": []
   },
   "outputs": [
    {
     "data": {
      "text/plain": [
       "torch.Size([32, 100])"
      ]
     },
     "execution_count": 35,
     "metadata": {},
     "output_type": "execute_result"
    }
   ],
   "source": [
    "#잠시만, emb.view(-1,6)@W1 +b1 하면 우리가 의도한 덧셈 맞나?\n",
    "(emb.view(-1,6)@W1).shape # [32,100] 인데, 우리가 b에 넣은건 [100]. 그럼 맞게 되겠다. [1,100]으로 변신, [32,100]으로 확장될테니.  \n"
   ]
  },
  {
   "cell_type": "code",
   "execution_count": 36,
   "id": "a5f6fe06-6497-4c53-b02e-5d9832ae7602",
   "metadata": {
    "tags": []
   },
   "outputs": [],
   "source": [
    "W2 = torch.randn((100, 27)) #이제 최종 layer. 우리는 27 char중 어떤 char이 나올지 보고싶어.\n",
    "b2 = torch.randn(27)"
   ]
  },
  {
   "cell_type": "code",
   "execution_count": 37,
   "id": "fb00af39-5c35-4295-842e-6111a45f881c",
   "metadata": {
    "tags": []
   },
   "outputs": [],
   "source": [
    "logits = h @ W2 + b2"
   ]
  },
  {
   "cell_type": "code",
   "execution_count": 39,
   "id": "44d67fa3-9f40-4e08-b3e7-f386d19314e4",
   "metadata": {
    "tags": []
   },
   "outputs": [
    {
     "data": {
      "text/plain": [
       "torch.Size([32, 27])"
      ]
     },
     "execution_count": 39,
     "metadata": {},
     "output_type": "execute_result"
    }
   ],
   "source": [
    "logits.shape"
   ]
  },
  {
   "cell_type": "code",
   "execution_count": 41,
   "id": "8b5963c6-00a6-418b-acb8-2f798becf2ec",
   "metadata": {
    "tags": []
   },
   "outputs": [
    {
     "data": {
      "text/plain": [
       "torch.Size([32, 27])"
      ]
     },
     "execution_count": 41,
     "metadata": {},
     "output_type": "execute_result"
    }
   ],
   "source": [
    "counts = logits.exp()\n",
    "prob = counts / counts.sum(1, keepdims=True)\n",
    "prob.shape"
   ]
  },
  {
   "cell_type": "code",
   "execution_count": 43,
   "id": "2a787db7-8e47-45f5-b750-49487a93ad72",
   "metadata": {
    "tags": []
   },
   "outputs": [
    {
     "data": {
      "text/plain": [
       "(torch.Size([32, 27]), torch.Size([32]))"
      ]
     },
     "execution_count": 43,
     "metadata": {},
     "output_type": "execute_result"
    }
   ],
   "source": [
    "prob.shape , Y.shape # prob중에 제일 높은걸로 추출해내고 싶다."
   ]
  },
  {
   "cell_type": "code",
   "execution_count": 44,
   "id": "38c2bfaf-a926-4fa8-81bd-b23aa3986efb",
   "metadata": {
    "tags": []
   },
   "outputs": [
    {
     "data": {
      "text/plain": [
       "tensor([ 5, 13, 13,  1,  0, 15, 12,  9, 22,  9,  1,  0,  1, 22,  1,  0,  9, 19,\n",
       "         1,  2,  5, 12, 12,  1,  0, 19, 15, 16,  8,  9,  1,  0])"
      ]
     },
     "execution_count": 44,
     "metadata": {},
     "output_type": "execute_result"
    }
   ],
   "source": [
    "Y"
   ]
  },
  {
   "cell_type": "code",
   "execution_count": 46,
   "id": "230fd7da-81eb-413f-9d17-beae515efbb4",
   "metadata": {
    "tags": []
   },
   "outputs": [
    {
     "data": {
      "text/plain": [
       "tensor([2.5258e-06, 7.9556e-13, 2.6447e-07, 1.0628e-09, 1.2317e-09, 2.2637e-09,\n",
       "        8.5990e-02, 7.1638e-10, 2.3880e-03, 1.0127e-03, 1.9726e-06, 4.9898e-13,\n",
       "        1.5135e-09, 3.7188e-08, 4.5068e-08, 4.9115e-05, 3.6686e-05, 1.2468e-05,\n",
       "        2.0189e-09, 7.6988e-15, 9.9681e-14, 1.9709e-05, 4.6855e-05, 1.2437e-09,\n",
       "        9.7900e-05, 1.3152e-06, 1.1413e-12, 2.0060e-08, 2.1746e-16, 3.1348e-07,\n",
       "        6.4982e-03, 2.0771e-13])"
      ]
     },
     "execution_count": 46,
     "metadata": {},
     "output_type": "execute_result"
    }
   ],
   "source": [
    "prob[torch.arange(32), Y] #이러면 각 Y에 해당하는 확률이 나온다"
   ]
  },
  {
   "cell_type": "code",
   "execution_count": 47,
   "id": "4177f8aa-3b38-4136-a866-207affa120e0",
   "metadata": {
    "tags": []
   },
   "outputs": [
    {
     "data": {
      "text/plain": [
       "tensor(17.4275)"
      ]
     },
     "execution_count": 47,
     "metadata": {},
     "output_type": "execute_result"
    }
   ],
   "source": [
    "loss = - prob[torch.arange(32), Y].log().mean()\n",
    "loss"
   ]
  },
  {
   "cell_type": "code",
   "execution_count": 48,
   "id": "0f472a7a-2271-49ab-a479-fb2659985e33",
   "metadata": {
    "tags": []
   },
   "outputs": [
    {
     "data": {
      "text/plain": [
       "(torch.Size([32, 3]), torch.Size([32]))"
      ]
     },
     "execution_count": 48,
     "metadata": {},
     "output_type": "execute_result"
    }
   ],
   "source": [
    "# ------------ one iteration --------------\n",
    "X.shape, Y.shape #dataset"
   ]
  },
  {
   "cell_type": "code",
   "execution_count": 97,
   "id": "57ce7a8c-e57a-4b6a-b17f-6276fa1eea62",
   "metadata": {
    "tags": []
   },
   "outputs": [],
   "source": [
    "g = torch.Generator().manual_seed(2147483647)\n",
    "C = torch.randn((27,2), generator=g)\n",
    "W1 = torch.randn((6,100), generator=g)\n",
    "b1 = torch.randn(100, generator=g)\n",
    "W2 = torch.randn((100, 27), generator=g)\n",
    "b2 = torch.randn(27,generator = g)\n",
    "parameters = [C,W1,b1,W2,b2]"
   ]
  },
  {
   "cell_type": "code",
   "execution_count": 98,
   "id": "b4bafe6e-f83c-4d34-b58f-f46861ccfb1b",
   "metadata": {
    "tags": []
   },
   "outputs": [
    {
     "data": {
      "text/plain": [
       "3481"
      ]
     },
     "execution_count": 98,
     "metadata": {},
     "output_type": "execute_result"
    }
   ],
   "source": [
    "sum(p.nelement() for p in parameters) # 거쳐야 하는 파라미터 수 \n"
   ]
  },
  {
   "cell_type": "code",
   "execution_count": 99,
   "id": "4c32e69d-bbbe-40f5-a3a7-0bd8abafc77a",
   "metadata": {
    "tags": []
   },
   "outputs": [],
   "source": [
    "for p in parameters:\n",
    "    p.requires_grad=True"
   ]
  },
  {
   "cell_type": "code",
   "execution_count": 100,
   "id": "b8ea7e66-3798-4861-97bb-9e55dcefbacc",
   "metadata": {
    "tags": []
   },
   "outputs": [],
   "source": [
    "lre = torch.linspace(-3, 0 , 1000) \n",
    "lrs = 10**lre # exponential spacing (위에서는 1~0.001까지를 1000으로 나눠서 보여줬는데, 이제 10^-3 ~ 10^0 사이의 learning rate를 가질 수 있게 됐다.\n"
   ]
  },
  {
   "cell_type": "code",
   "execution_count": 105,
   "id": "7c617c30-ec6f-46be-bd5a-6cc44655730b",
   "metadata": {
    "tags": []
   },
   "outputs": [
    {
     "name": "stdout",
     "output_type": "stream",
     "text": [
      "2.800971031188965\n"
     ]
    }
   ],
   "source": [
    "lri=[]\n",
    "lossi=[]\n",
    "for i in range(1000):\n",
    "    # minibatch construct\n",
    "    ix = torch.randint(0, X.shape[0], (32,))  #32개만으로도 gradient 만들기 충분하다. \n",
    "    \n",
    "    # emb = C[X] # (32, 3,2 )\n",
    "    emb = C[X[ix]] \n",
    "    h = torch.tanh(emb.view(-1,6) @ W1 + b1)\n",
    "    logits = h @ W2 + b2 # (32, 27)\n",
    "    #counts = logits.exp()\n",
    "    #prob = counts / counts.sum(1, keepdims=True)\n",
    "    #loss = -prob[torch.arange(32), Y].log().mean() \n",
    "    loss = F.cross_entropy(logits,Y[ix]) # 저 intermediate tensor들을 메모리에 만들지 않아서 좀더 효율적. (backward pass도 simpler) \n",
    "    # 1. 메모리 효율적 - 1장에서 tanh backward 구현할때 t 재사용 한 것처럼.\n",
    "    # 2. logits.exp() 하기 때문에 100.exp() 이런게 nan이 나와. - infinity가 나와서. -floating point니까. 그런데, monotonic한 함수라서, logits+4를 더하고 이렇게 operation을 하던, logits-100하고 operation하던 결과값이 똑같다.\n",
    "    # 즉, offset을 더하거나 빼도 된다. 그래서 -최대값만큼 한다음 loss를 구한다. (F.cross_entropy에서) \n",
    "    #forward pass 끝\n",
    "    # print(loss)\n",
    "    \n",
    "    # backward pass\n",
    "    for p in parameters:\n",
    "        p.grad = None\n",
    "    loss.backward()\n",
    "    # update\n",
    "    #lr =lrs[i]\n",
    "    lr = 0.1\n",
    "    for p in parameters:\n",
    "        # p.data += -0.1 * p.grad # LR은 어떻게 설정하지? , 적절한 speed인지 알 수 있나?  - 0.0001 하면 loss가 간신히 줄어드는걸 볼 수 있어. loss가 explode 하는걸 (up and down) 보면 너무 큰거야. 그러니 이 사이가 적절하다. \n",
    "        p.data += -lr * p.grad\n",
    "\n",
    "    # track stats\n",
    "    #lri.append(lre[i])\n",
    "    #lossi.append(loss.item())\n",
    "\n",
    "print(loss.item()) #하지만 이건 현재 mini batch의 loss를 말한다.\n"
   ]
  },
  {
   "cell_type": "code",
   "execution_count": 102,
   "id": "2aa6c152-44bf-468c-8b79-2d4dbec650cd",
   "metadata": {
    "tags": []
   },
   "outputs": [
    {
     "data": {
      "text/plain": [
       "[<matplotlib.lines.Line2D at 0x7f5de02f44c0>]"
      ]
     },
     "execution_count": 102,
     "metadata": {},
     "output_type": "execute_result"
    },
    {
     "data": {
      "image/png": "[encoded data removed]",
      "text/plain": [
       "<Figure size 640x480 with 1 Axes>"
      ]
     },
     "metadata": {},
     "output_type": "display_data"
    }
   ],
   "source": [
    "plt.plot(lri,lossi) # loss가 가장 많이 줄어든 건 lr이 조그마할때인거지. 그래서 저 0.1~0.2 사이의 값을 LR로 정해라."
   ]
  },
  {
   "cell_type": "code",
   "execution_count": 94,
   "id": "0a2a64b5-c10d-4e1c-80ca-a7096201c416",
   "metadata": {
    "tags": []
   },
   "outputs": [],
   "source": [
    "\"\"\"\n",
    "counts = logits.exp()\n",
    "prob = counts / counts.sum(1, keepdims=True)\n",
    "loss = -prob[torch.arange(32), Y].log().mean() \n",
    "이건 그냥 cross_entropy야 \n",
    "\"\"\" \n",
    "\"\"\"\n",
    "\"\"\"\n",
    "torch.linspace(0.001,1,1000) # 0.001에서 1 사이의 1000개 변수를 만들어주는데, (차례대로) \n",
    "lre = torch.linspace(-3, 0 , 1000) \n",
    "lrs = 10**lre # exponential spacing (위에서는 1~0.001까지를 1000으로 나눠서 보여줬는데, 이제 10^-3 ~ 10^0 사이의 learning rate를 가질 수 있게 됐다.\n",
    "# 처음엔 LR이 굉장히 낮은데, 점점 lr이 올라간다."
   ]
  },
  {
   "cell_type": "code",
   "execution_count": 95,
   "id": "d938196b-8571-40ef-bdb0-9276d77fb7fb",
   "metadata": {
    "tags": []
   },
   "outputs": [
    {
     "data": {
      "text/plain": [
       "tensor([176927, 202813, 100806, 141791, 133341, 120640, 164094,  85599,  65642,\n",
       "        165891,  38160, 148516,  41927, 209104,  44902, 135554, 202313,  60052,\n",
       "        212387,  34777, 138330, 214852, 113296, 113300, 214164, 159382, 173661,\n",
       "        114077,  83341, 171433, 147957,   2506])"
      ]
     },
     "execution_count": 95,
     "metadata": {},
     "output_type": "execute_result"
    }
   ],
   "source": [
    "\"\"\"\n",
    "mini batch 를 사용해서 training 빠르게 하고 싶어.\n",
    "\"\"\"\n",
    "torch.randint(0,5,(32,)) #0,5 사이 32개벡터.\n",
    "torch.randint(0,X.shape[0],(32,)) # 0~트레이닝데이터 개수 사이 32개 숫자. 그래서 32개의 sample에 대해 minibatch 하고 싶다.\n"
   ]
  },
  {
   "cell_type": "code",
   "execution_count": 106,
   "id": "25851475-4569-40a4-9769-44b56a234143",
   "metadata": {
    "tags": []
   },
   "outputs": [
    {
     "name": "stdout",
     "output_type": "stream",
     "text": [
      "tensor(2.5650, grad_fn=<NllLossBackward0>)\n"
     ]
    }
   ],
   "source": [
    "emb = C[X]\n",
    "h = torch.tanh(emb.view(-1,6) @W1 + b1)  # (32,100)\n",
    "logits = h@W2 + b2 # 32,27\n",
    "loss = F.cross_entropy(logits,Y)\n",
    "print(loss)"
   ]
  },
  {
   "cell_type": "code",
   "execution_count": null,
   "id": "934c783c-7c6d-4e89-ab77-4f57729c107e",
   "metadata": {},
   "outputs": [],
   "source": [
    "\"\"\"\n",
    "overfitting 때문에 loss가 좋은 결과가 아닌경우도 있다.\n",
    "dataset을 그래서 보통 나누는데\n",
    "training split, dev/validation split, test split 으로 나눈다.\n",
    "# 80%, 10%, 10%\n",
    "test split으로 performance측정한다. \n",
    "test split은 training 에 매우 적게 들어가야 한다.\n",
    "\n",
    "\"\"\""
   ]
  },
  {
   "cell_type": "code",
   "execution_count": 108,
   "id": "326c563a-8dcf-44e6-820e-3c4cee1ad383",
   "metadata": {
    "tags": []
   },
   "outputs": [
    {
     "name": "stdout",
     "output_type": "stream",
     "text": [
      "torch.Size([182580, 3]) torch.Size([182580])\n",
      "torch.Size([22767, 3]) torch.Size([22767])\n",
      "torch.Size([22799, 3]) torch.Size([22799])\n"
     ]
    }
   ],
   "source": [
    "def build_dataset(words):\n",
    "    # build the dataset\n",
    "\n",
    "    block_size=3 # context length : ngram 몇개 선택할것인가. ( 몇개의 단어로 다음 단어 예측할지)\n",
    "    X, Y = [], []\n",
    "    for w in words:\n",
    "        context = [0] * block_size\n",
    "        for ch in w + '.':\n",
    "            ix = stoi[ch]\n",
    "            X.append(context) # 첫 context는 ... (즉 앞 3글자가 .인거)\n",
    "            Y.append(ix)\n",
    "            # print(\"\".join(itos[i] for i in context), '--->',itos[ix])\n",
    "            context = context[1:] + [ix] # crop and append\n",
    "    X = torch.tensor(X)\n",
    "    Y = torch.tensor(Y)\n",
    "    print(X.shape, Y.shape)\n",
    "    return X,Y\n",
    "import random\n",
    "random.seed(42)\n",
    "random.shuffle(words)\n",
    "n1 = int(0.8*len(words))\n",
    "n2 = int(0.9*len(words))\n",
    "\n",
    "Xtr, Ytr = build_dataset(words[:n1])\n",
    "Xdev, Ydev = build_dataset(words[n1:n2])\n",
    "Xte, Yte = build_dataset(words[n2:])\n"
   ]
  },
  {
   "cell_type": "code",
   "execution_count": 110,
   "id": "4e70ec69-1529-45c1-807c-926c62082d4e",
   "metadata": {
    "tags": []
   },
   "outputs": [
    {
     "data": {
      "text/plain": [
       "(32033, 25626, 28829, 3203, 3204)"
      ]
     },
     "execution_count": 110,
     "metadata": {},
     "output_type": "execute_result"
    }
   ],
   "source": [
    "len(words), n1, n2, n2-n1, len(words) -n2 "
   ]
  },
  {
   "cell_type": "code",
   "execution_count": 142,
   "id": "b66d23f6-68b4-49c3-9541-07d804a77119",
   "metadata": {
    "tags": []
   },
   "outputs": [],
   "source": [
    "g = torch.Generator().manual_seed(2147483647)\n",
    "C = torch.randn((27,10), generator=g)\n",
    "W1 = torch.randn((30,200), generator=g)\n",
    "b1 = torch.randn(200, generator=g)\n",
    "W2 = torch.randn((200, 27), generator=g)\n",
    "b2 = torch.randn(27,generator = g)\n",
    "parameters = [C,W1,b1,W2,b2]"
   ]
  },
  {
   "cell_type": "code",
   "execution_count": 143,
   "id": "1e1e4dac-86f1-4872-85cb-8e8ed68717f6",
   "metadata": {
    "tags": []
   },
   "outputs": [],
   "source": [
    "for p in parameters:\n",
    "    p.requires_grad=True"
   ]
  },
  {
   "cell_type": "code",
   "execution_count": null,
   "id": "1007f683-578f-47cd-9ec8-4e12eec49dc5",
   "metadata": {},
   "outputs": [],
   "source": []
  },
  {
   "cell_type": "code",
   "execution_count": 146,
   "id": "5f1aef75-b9e9-43b1-8e21-23436636d3dc",
   "metadata": {
    "tags": []
   },
   "outputs": [],
   "source": [
    "lri=[]\n",
    "lossi=[]\n",
    "stepi = []\n"
   ]
  },
  {
   "cell_type": "code",
   "execution_count": 163,
   "id": "4ecbdd22-b6e9-4109-bbb0-850d3cd5287b",
   "metadata": {
    "tags": []
   },
   "outputs": [
    {
     "name": "stdout",
     "output_type": "stream",
     "text": [
      "2.053797721862793\n"
     ]
    }
   ],
   "source": [
    "\n",
    "for i in range(200000):\n",
    "    # minibatch construct\n",
    "    ix = torch.randint(0, Xtr.shape[0], (32,))  #32개만으로도 gradient 만들기 충분하다. \n",
    "    \n",
    "    # emb = C[X] # (32, 3,2 )\n",
    "    emb = C[Xtr[ix]] \n",
    "    h = torch.tanh(emb.view(-1,30) @ W1 + b1)\n",
    "    logits = h @ W2 + b2 # (32, 27)\n",
    "\n",
    "    loss = F.cross_entropy(logits,Ytr[ix]) # 저 intermediate tensor들을 메모리에 만들지 않아서 좀더 효율적. (backward pass도 simpler) \n",
    "    \n",
    "    # backward pass\n",
    "    for p in parameters:\n",
    "        p.grad = None\n",
    "    loss.backward()\n",
    "    # update\n",
    "    \n",
    "    #lr =lrs[i]\n",
    "    lr = 0.1 if i< 100000 else 0.01\n",
    "    for p in parameters:\n",
    "        # p.data += -0.1 * p.grad # LR은 어떻게 설정하지? , 적절한 speed인지 알 수 있나?  - 0.0001 하면 loss가 간신히 줄어드는걸 볼 수 있어. loss가 explode 하는걸 (up and down) 보면 너무 큰거야. 그러니 이 사이가 적절하다. \n",
    "        p.data += -lr * p.grad\n",
    "\n",
    "    # track stats\n",
    "    # lri.append(lre[i])\n",
    "    stepi.append(i)\n",
    "    lossi.append(loss.log10().item())\n",
    "\n",
    "print(loss.item()) #하지만 이건 현재 mini batch의 loss를 말한다.\n"
   ]
  },
  {
   "cell_type": "code",
   "execution_count": 164,
   "id": "8b12a046-fcce-47d3-88d7-1306d29bd099",
   "metadata": {
    "tags": []
   },
   "outputs": [
    {
     "data": {
      "text/plain": [
       "[<matplotlib.lines.Line2D at 0x7f5dd4978dc0>]"
      ]
     },
     "execution_count": 164,
     "metadata": {},
     "output_type": "execute_result"
    },
    {
     "data": {
      "image/png": "[encoded data removed]",
      "text/plain": [
       "<Figure size 640x480 with 1 Axes>"
      ]
     },
     "metadata": {},
     "output_type": "display_data"
    }
   ],
   "source": [
    "plt.plot(stepi,lossi)"
   ]
  },
  {
   "cell_type": "code",
   "execution_count": null,
   "id": "cf51a123-61b3-46bf-890e-f6b165216773",
   "metadata": {},
   "outputs": [],
   "source": [
    "\"문제가 될 수 있는 부분은 세곳. embedding, hidden layer, 마지막 fully connected layer.\""
   ]
  },
  {
   "cell_type": "code",
   "execution_count": 165,
   "id": "b77c2313-6b67-46b4-afa2-b26793bc1987",
   "metadata": {
    "tags": []
   },
   "outputs": [
    {
     "name": "stdout",
     "output_type": "stream",
     "text": [
      "tensor(2.0588, grad_fn=<NllLossBackward0>)\n"
     ]
    }
   ],
   "source": [
    "emb = C[Xtr]\n",
    "h = torch.tanh(emb.view(-1,30) @W1 + b1)  # (32,100)\n",
    "logits = h@W2 + b2 # 32,27\n",
    "loss = F.cross_entropy(logits,Ytr)\n",
    "print(loss)"
   ]
  },
  {
   "cell_type": "code",
   "execution_count": 166,
   "id": "99a37219-482e-4a0f-ae53-377fd8714062",
   "metadata": {
    "tags": []
   },
   "outputs": [
    {
     "name": "stdout",
     "output_type": "stream",
     "text": [
      "tensor(2.1199, grad_fn=<NllLossBackward0>)\n"
     ]
    }
   ],
   "source": [
    "emb = C[Xdev]\n",
    "h = torch.tanh(emb.view(-1,30) @W1 + b1)  # (32,100)\n",
    "logits = h@W2 + b2 # 32,27\n",
    "loss = F.cross_entropy(logits,Ydev)\n",
    "print(loss)"
   ]
  },
  {
   "cell_type": "code",
   "execution_count": null,
   "id": "1a5fc42d-e013-4803-b9ae-e475ff779358",
   "metadata": {},
   "outputs": [],
   "source": [
    "#training loss랑 dev loss가 비슷한거 보면, underfitting이야. "
   ]
  },
  {
   "cell_type": "code",
   "execution_count": 151,
   "id": "0403ae4a-56d0-4d75-9c3f-b2d0a196ff07",
   "metadata": {
    "tags": []
   },
   "outputs": [
    {
     "data": {
      "image/png": "[encoded data removed]",
      "text/plain": [
       "<Figure size 800x800 with 1 Axes>"
      ]
     },
     "metadata": {},
     "output_type": "display_data"
    }
   ],
   "source": [
    "\"\"\" \n",
    "embedding이 어떻게 되어있는지 볼까.\n",
    "\"\"\"\n",
    "plt.figure(figsize=(8,8))\n",
    "plt.scatter(C[:,0].data, C[:,1].data, s=200)\n",
    "for i in range(C.shape[0]):\n",
    "    plt.text(C[i,0].item(), C[i,1].item(), itos[i], ha=\"center\", va=\"center\", color=\"white\")\n",
    "plt.grid(\"minor\")"
   ]
  },
  {
   "cell_type": "code",
   "execution_count": 167,
   "id": "cc76e747-1435-465d-93f2-02cd62a3e301",
   "metadata": {
    "tags": []
   },
   "outputs": [
    {
     "name": "stdout",
     "output_type": "stream",
     "text": [
      "carlaizabelle.\n",
      "khi.\n",
      "mili.\n",
      "taty.\n",
      "skaassie.\n",
      "mahutn.\n",
      "delynn.\n",
      "jarqui.\n",
      "nellara.\n",
      "chaiir.\n",
      "kaleigh.\n",
      "ham.\n",
      "join.\n",
      "quint.\n",
      "sulie.\n",
      "alianni.\n",
      "watell.\n",
      "dearynn.\n",
      "jace.\n",
      "pirudie.\n"
     ]
    }
   ],
   "source": [
    "g= torch.Generator().manual_seed(2147483647+10)\n",
    "\n",
    "for _ in range(20):\n",
    "    out= []\n",
    "    context = [0] * block_size # 모두 시작은 '...'\n",
    "    while True:\n",
    "        emb = C[torch.tensor([context])] # (1,block_size,d)\n",
    "        h = torch.tanh(emb.view(1,-1) @ W1 + b1)\n",
    "        logits = h @ W2 + b2\n",
    "        probs = F.softmax(logits, dim=1)\n",
    "        ix = torch.multinomial(probs, num_samples=1, generator=g).item()\n",
    "        context = context[1:]+ [ix]\n",
    "        out.append(ix)\n",
    "        if ix ==0:\n",
    "            break\n",
    "        \n",
    "    print(\"\".join(itos[i] for i in out))"
   ]
  },
  {
   "cell_type": "code",
   "execution_count": null,
   "id": "9a557d34-680d-41d8-828f-8c7eb16c38eb",
   "metadata": {},
   "outputs": [],
   "source": []
  }
 ],
 "metadata": {
  "kernelspec": {
   "display_name": "Python 3 (ipykernel)",
   "language": "python",
   "name": "python3"
  },
  "language_info": {
   "codemirror_mode": {
    "name": "ipython",
    "version": 3
   },
   "file_extension": ".py",
   "mimetype": "text/x-python",
   "name": "python",
   "nbconvert_exporter": "python",
   "pygments_lexer": "ipython3",
   "version": "3.8.10"
  }
 },
 "nbformat": 4,
 "nbformat_minor": 5
}
